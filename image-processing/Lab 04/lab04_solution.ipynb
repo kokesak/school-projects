{
 "cells": [
  {
   "cell_type": "markdown",
   "metadata": {},
   "source": [
    "## Imports"
   ]
  },
  {
   "cell_type": "code",
   "execution_count": 1,
   "metadata": {},
   "outputs": [],
   "source": [
    "import matplotlib.pyplot as plt\n",
    "import numpy as np\n",
    "import skimage\n",
    "from skimage import measure"
   ]
  },
  {
   "cell_type": "markdown",
   "metadata": {},
   "source": [
    "## Create a binary image"
   ]
  },
  {
   "cell_type": "code",
   "execution_count": 2,
   "metadata": {},
   "outputs": [
    {
     "data": {
      "text/plain": [
       "Text(0.5, 1.0, 'Binary_Image')"
      ]
     },
     "execution_count": 2,
     "metadata": {},
     "output_type": "execute_result"
    },
    {
     "data": {
      "image/png": "[encoded data removed]",
      "text/plain": [
       "<Figure size 432x288 with 1 Axes>"
      ]
     },
     "metadata": {
      "needs_background": "light"
     },
     "output_type": "display_data"
    }
   ],
   "source": [
    "image_binary=[[0, 0, 0, 0, 0, 0, 0, 0],\n",
    "              [0, 0, 0, 1, 1, 1, 1, 0],\n",
    "              [0, 0, 0, 1, 1, 1, 1, 0],\n",
    "              [0, 0, 0, 1, 1, 1, 0, 0],\n",
    "              [0, 0, 0, 1, 1, 1, 0, 0],\n",
    "              [0, 0, 1, 1, 1, 1, 0, 0],\n",
    "              [0, 0, 1, 1, 1, 1, 0, 0],\n",
    "              [0, 0, 0, 0, 0, 0, 0, 0]]\n",
    "\n",
    "image_binary = np.asarray(image_binary, dtype=np.bool)\n",
    "image_binary = image_binary.astype(int)\n",
    "\n",
    "plt.figure(1)\n",
    "plt.imshow(image_binary, cmap='gray')\n",
    "plt.title('Binary_Image')"
   ]
  },
  {
   "cell_type": "markdown",
   "metadata": {},
   "source": [
    "## Implement the chain algorithm"
   ]
  },
  {
   "cell_type": "code",
   "execution_count": 3,
   "metadata": {},
   "outputs": [],
   "source": [
    "def find_contours_4(img):\n",
    "    coords_x = []\n",
    "    coords_y = []\n",
    "\n",
    "    for i in range(len(img)-1):\n",
    "        for j in range(len(img)-1):\n",
    "            if (img[i,j]==1 and (img[i,j-1]==0 or img[i,j+1]==0 or \\\n",
    "                                img[i-1,j]==0 or img[i+1,j]==0)):\n",
    "                coords_x.append(i)\n",
    "                coords_y.append(j)\n",
    "\n",
    "    coords_x = np.asarray(coords_x, dtype=np.int32)\n",
    "    coords_y = np.asarray(coords_y, dtype=np.int32)\n",
    "\n",
    "    coords = np.transpose(np.vstack((coords_x,coords_y)))  \n",
    "\n",
    "    return coords"
   ]
  },
  {
   "cell_type": "code",
   "execution_count": 4,
   "metadata": {},
   "outputs": [],
   "source": [
    "def find_contours_8(img):\n",
    "    coords_x = []\n",
    "    coords_y = []\n",
    "\n",
    "    for i in range(len(img)-1):\n",
    "        for j in range(len(img)-1):\n",
    "            if (img[i,j]==1 and (img[i,j-1]==0 or img[i,j+1]==0 or \\\n",
    "                                img[i-1,j]==0 or img[i+1,j]==0 or \\\n",
    "                                img[i-1,j-1]==0 or img[i-1,j+1]==0 or \\\n",
    "                                img[i+1,j-1]==0 or img[i+1,j+1]==0)):\n",
    "                coords_x.append(i)\n",
    "                coords_y.append(j)\n",
    "\n",
    "    coords_x = np.asarray(coords_x, dtype=np.int32)\n",
    "    coords_y = np.asarray(coords_y, dtype=np.int32)\n",
    "\n",
    "    coords = np.transpose(np.vstack((coords_x,coords_y)))  \n",
    "\n",
    "    return coords"
   ]
  },
  {
   "cell_type": "markdown",
   "metadata": {},
   "source": [
    "## Find contours"
   ]
  },
  {
   "cell_type": "code",
   "execution_count": 5,
   "metadata": {},
   "outputs": [
    {
     "data": {
      "text/plain": [
       "Text(0.5, 1.0, 'Binary_perimeter_Image with 4 neighbors')"
      ]
     },
     "execution_count": 5,
     "metadata": {},
     "output_type": "execute_result"
    },
    {
     "data": {
      "image/png": "[encoded data removed]",
      "text/plain": [
       "<Figure size 432x288 with 1 Axes>"
      ]
     },
     "metadata": {
      "needs_background": "light"
     },
     "output_type": "display_data"
    }
   ],
   "source": [
    "contours = find_contours_4(image_binary)\n",
    "\n",
    "New_Binary=np.zeros((10,10))\n",
    "\n",
    "New_Binary=np.asarray(New_Binary, dtype=np.bool)\n",
    "New_Binary=New_Binary.astype(int)\n",
    "\n",
    "New_Binary[contours[:,0], contours[:,1]] = 1\n",
    "\n",
    "plt.figure(2)\n",
    "plt.imshow(New_Binary, cmap='gray')\n",
    "plt.title('Binary_perimeter_Image with 4 neighbors')"
   ]
  },
  {
   "cell_type": "code",
   "execution_count": 6,
   "metadata": {},
   "outputs": [
    {
     "data": {
      "text/plain": [
       "Text(0.5, 1.0, 'Binary_perimeter_Image with 8 neighbors')"
      ]
     },
     "execution_count": 6,
     "metadata": {},
     "output_type": "execute_result"
    },
    {
     "data": {
      "image/png": "[encoded data removed]",
      "text/plain": [
       "<Figure size 432x288 with 1 Axes>"
      ]
     },
     "metadata": {
      "needs_background": "light"
     },
     "output_type": "display_data"
    }
   ],
   "source": [
    "contours = find_contours_8(image_binary)\n",
    "\n",
    "New_Binary=np.zeros((10,10))\n",
    "\n",
    "New_Binary=np.asarray(New_Binary, dtype=np.bool)\n",
    "New_Binary=New_Binary.astype(int)\n",
    "\n",
    "New_Binary[contours[:,0], contours[:,1]] = 1\n",
    "\n",
    "plt.figure(2)\n",
    "plt.imshow(New_Binary, cmap='gray')\n",
    "plt.title('Binary_perimeter_Image with 8 neighbors')"
   ]
  },
  {
   "cell_type": "markdown",
   "metadata": {},
   "source": [
    "## Find contours of another image"
   ]
  },
  {
   "cell_type": "code",
   "execution_count": 7,
   "metadata": {},
   "outputs": [
    {
     "data": {
      "text/plain": [
       "Text(0.5, 1.0, 'Binary_Image')"
      ]
     },
     "execution_count": 7,
     "metadata": {},
     "output_type": "execute_result"
    },
    {
     "data": {
      "image/png": "[encoded data removed]",
      "text/plain": [
       "<Figure size 432x288 with 1 Axes>"
      ]
     },
     "metadata": {
      "needs_background": "light"
     },
     "output_type": "display_data"
    }
   ],
   "source": [
    "image_binary=np.zeros((100,100))\n",
    "\n",
    "image_binary[30:50,30:50] = 1\n",
    "image_binary[51:70,51:70] = 1\n",
    "\n",
    "image_binary = np.asarray(image_binary, dtype = np.bool)\n",
    "image_binary = image_binary.astype(int)\n",
    "\n",
    "plt.figure(1)\n",
    "plt.imshow(image_binary,cmap=plt.cm.gray)\n",
    "plt.title('Binary_Image')"
   ]
  },
  {
   "cell_type": "code",
   "execution_count": 8,
   "metadata": {},
   "outputs": [
    {
     "data": {
      "text/plain": [
       "Text(0.5, 1.0, 'Binary_perimeter_Image with 4 neighbors')"
      ]
     },
     "execution_count": 8,
     "metadata": {},
     "output_type": "execute_result"
    },
    {
     "data": {
      "image/png": "[encoded data removed]",
      "text/plain": [
       "<Figure size 432x288 with 1 Axes>"
      ]
     },
     "metadata": {
      "needs_background": "light"
     },
     "output_type": "display_data"
    }
   ],
   "source": [
    "coords = find_contours_4(image_binary)\n",
    "\n",
    "new_binary = np.zeros((100,100))\n",
    "\n",
    "new_binary = np.asarray(new_binary, dtype=np.bool)\n",
    "new_binary = new_binary.astype(int)\n",
    "\n",
    "new_binary[coords[:,0], coords[:,1]] = 1\n",
    "\n",
    "plt.figure(2)\n",
    "plt.imshow(new_binary,cmap=plt.cm.gray)\n",
    "plt.title('Binary_perimeter_Image with 4 neighbors')"
   ]
  },
  {
   "cell_type": "code",
   "execution_count": 9,
   "metadata": {},
   "outputs": [
    {
     "data": {
      "text/plain": [
       "Text(0.5, 1.0, 'Binary_perimeter_Image with 8 neighbors')"
      ]
     },
     "execution_count": 9,
     "metadata": {},
     "output_type": "execute_result"
    },
    {
     "data": {
      "image/png": "[encoded data removed]",
      "text/plain": [
       "<Figure size 432x288 with 1 Axes>"
      ]
     },
     "metadata": {
      "needs_background": "light"
     },
     "output_type": "display_data"
    }
   ],
   "source": [
    "coords = find_contours_8(image_binary)\n",
    "\n",
    "new_binary = np.zeros((100,100))\n",
    "\n",
    "new_binary = np.asarray(new_binary, dtype=np.bool)\n",
    "new_binary = new_binary.astype(int)\n",
    "\n",
    "new_binary[coords[:,0], coords[:,1]] = 1\n",
    "\n",
    "plt.figure(2)\n",
    "plt.imshow(new_binary,cmap=plt.cm.gray)\n",
    "plt.title('Binary_perimeter_Image with 8 neighbors')"
   ]
  },
  {
   "cell_type": "code",
   "execution_count": null,
   "metadata": {},
   "outputs": [],
   "source": []
  }
 ],
 "metadata": {
  "kernelspec": {
   "display_name": "Python 3",
   "language": "python",
   "name": "python3"
  },
  "language_info": {
   "codemirror_mode": {
    "name": "ipython",
    "version": 3
   },
   "file_extension": ".py",
   "mimetype": "text/x-python",
   "name": "python",
   "nbconvert_exporter": "python",
   "pygments_lexer": "ipython3",
   "version": "3.7.6"
  }
 },
 "nbformat": 4,
 "nbformat_minor": 4
}
